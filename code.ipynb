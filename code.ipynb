{
  "nbformat": 4,
  "nbformat_minor": 0,
  "metadata": {
    "colab": {
      "name": "code.ipynb",
      "provenance": [],
      "collapsed_sections": []
    },
    "kernelspec": {
      "name": "python3",
      "display_name": "Python 3"
    },
    "language_info": {
      "name": "python"
    }
  },
  "cells": [
    {
      "cell_type": "code",
      "metadata": {
        "id": "k5vQQHOpdeaM"
      },
      "source": [
        "import numpy as np\n",
        "import itertools"
      ],
      "execution_count": 32,
      "outputs": []
    },
    {
      "cell_type": "markdown",
      "metadata": {
        "id": "UdRgcDpbelZf"
      },
      "source": [
        "Total students = 210\n",
        "---\n",
        "Total subjects = 4 (w.r.t. student)\n",
        "---\n",
        "2 Core subjects and 2 Electives, each elective has 3 buckets\n",
        "---\n",
        "Hence, total subjects offered are 8, i.e., [a1,a2,a3,b1,b2,b3,d,e]\n",
        "---\n"
      ]
    },
    {
      "cell_type": "code",
      "metadata": {
        "id": "QQGSB6aGeNxV"
      },
      "source": [
        "subGroup=[]\n",
        "for i in range(7):\n",
        "  a=[]\n",
        "  a.append(np.random.randint(16))\n",
        "  a.append(np.random.randint(16))\n",
        "  a.append(30-(a[0]+a[1]))\n",
        "  a.append(np.random.randint(16))\n",
        "  a.append(0)\n",
        "  a.append(np.random.randint(16))\n",
        "  a[4]=30-(a[3]+a[5])\n",
        "  a.append(30)\n",
        "  a.append(30)\n",
        "  subGroup=subGroup+[a]"
      ],
      "execution_count": 33,
      "outputs": []
    },
    {
      "cell_type": "code",
      "metadata": {
        "colab": {
          "base_uri": "https://localhost:8080/"
        },
        "id": "Txqne9K7ehbt",
        "outputId": "ee3fa3a2-7e7e-47a9-ea53-1a5ead804e73"
      },
      "source": [
        "subGroup\n",
        "#show number of student of eah batch in each subject\n",
        "#y axis = Batches [b1,b2....,b7]; x axis = subejcts [a1,a2,a3,b1,b2,b3,d,e]"
      ],
      "execution_count": 34,
      "outputs": [
        {
          "output_type": "execute_result",
          "data": {
            "text/plain": [
              "[[12, 4, 14, 12, 5, 13, 30, 30],\n",
              " [6, 10, 14, 3, 19, 8, 30, 30],\n",
              " [11, 10, 9, 12, 8, 10, 30, 30],\n",
              " [7, 0, 23, 1, 29, 0, 30, 30],\n",
              " [10, 8, 12, 11, 5, 14, 30, 30],\n",
              " [10, 9, 11, 15, 15, 0, 30, 30],\n",
              " [1, 1, 28, 1, 29, 0, 30, 30]]"
            ]
          },
          "metadata": {
            "tags": []
          },
          "execution_count": 34
        }
      ]
    },
    {
      "cell_type": "code",
      "metadata": {
        "id": "5KH5dOBDeidp"
      },
      "source": [
        "totalStudentSubejctWise=[0]*8\n",
        "for i in range(8):\n",
        "  t=0\n",
        "  for j in range(7):\n",
        "    t=t+subGroup[j][i]\n",
        "  totalStudentSubejctWise[i]=t"
      ],
      "execution_count": 35,
      "outputs": []
    },
    {
      "cell_type": "code",
      "metadata": {
        "colab": {
          "base_uri": "https://localhost:8080/"
        },
        "id": "pPC1MjCphteO",
        "outputId": "b78986fe-5c22-4f78-9a64-f708903ca6c0"
      },
      "source": [
        "totalStudentSubejctWise\n",
        "#total number of students in each subject"
      ],
      "execution_count": 36,
      "outputs": [
        {
          "output_type": "execute_result",
          "data": {
            "text/plain": [
              "[57, 42, 111, 55, 110, 45, 210, 210]"
            ]
          },
          "metadata": {
            "tags": []
          },
          "execution_count": 36
        }
      ]
    },
    {
      "cell_type": "code",
      "metadata": {
        "colab": {
          "base_uri": "https://localhost:8080/"
        },
        "id": "BL1TeYuvhu0v",
        "outputId": "615b3ad9-5e4b-4ce4-8739-ba265f18b53b"
      },
      "source": [
        "a1=[] \n",
        "a2=[]\n",
        "a3=[]\n",
        "b1=[]\n",
        "b2=[]\n",
        "b3=[]\n",
        "d=[]\n",
        "e=[]\n",
        "for i in range(7):\n",
        "  a1.append(subGroup[i][0])\n",
        "  a2.append(subGroup[i][1])\n",
        "  a3.append(subGroup[i][2])\n",
        "  b1.append(subGroup[i][3])\n",
        "  b2.append(subGroup[i][4])\n",
        "  b3.append(subGroup[i][5])\n",
        "  d.append(subGroup[i][6])\n",
        "  e.append(subGroup[i][7])\n",
        "print(a1)\n",
        "print(b2)\n",
        "print(d)\n",
        "\n",
        "#Each array will store number of student of each batch from that subject"
      ],
      "execution_count": 37,
      "outputs": [
        {
          "output_type": "stream",
          "text": [
            "[12, 6, 11, 7, 10, 10, 1]\n",
            "[5, 19, 8, 29, 5, 15, 29]\n",
            "[30, 30, 30, 30, 30, 30, 30]\n"
          ],
          "name": "stdout"
        }
      ]
    },
    {
      "cell_type": "markdown",
      "metadata": {
        "id": "NGC7FpKUim6I"
      },
      "source": [
        "First Instance of Genetic Algorithm applied\n",
        "---"
      ]
    },
    {
      "cell_type": "code",
      "metadata": {
        "id": "1G3YzzGD8WEH"
      },
      "source": [
        "def initialization1():\n",
        "  arr=[]\n",
        "  for i in range(4): #Population size = 4\n",
        "    chr=[]\n",
        "    for j in range(7):\n",
        "      chr.append(np.random.randint(2))\n",
        "    arr=arr+[chr]\n",
        "  return(arr)"
      ],
      "execution_count": 40,
      "outputs": []
    },
    {
      "cell_type": "code",
      "metadata": {
        "id": "BCgVhkgnmsNu"
      },
      "source": [
        "def fitness1(a,ref): # ref - batchwise distribution of a single subject\n",
        "  g1,g2=0,0 #sizes of groups 1 and 2 (represented by 0 and 1 in chromosome)\n",
        "  for i in range(len(a)):\n",
        "    if(a[i]==0):\n",
        "      g1=g1+ref[i]\n",
        "    else:\n",
        "      g2=g2+ref[i]\n",
        "  return(abs(g1-g2))"
      ],
      "execution_count": 38,
      "outputs": []
    },
    {
      "cell_type": "code",
      "metadata": {
        "id": "tigFQqSipRiU"
      },
      "source": [
        "def crossover1(arr,ref): # arr - whole population; ref - same as above\n",
        "  fit=[0]*(len(arr)) #array storing fitness of each chromosome of the population\n",
        "  for i in range(len(arr)):\n",
        "    fit[i]=fitness1(arr[i],ref)\n",
        "  if(fit[0]<10): #difference of 10 is acceptable\n",
        "    return(arr)\n",
        "  arr=[x for _,x in sorted(zip(fit,arr))] #sorting of chromosome with repect to fitness\n",
        "  arr[-1]=arr[0]   #eliminating weakest\n",
        "  for i in range(len(arr[0])):\n",
        "    t=np.random.randint(2)\n",
        "    if(t==0):                # UNIFORM Crossover\n",
        "      arr[0][i],arr[1][i] = arr[1][i],arr[0][i]\n",
        "    t=np.random.randint(2)\n",
        "    if(t==0):\n",
        "      arr[2][i],arr[3][i] = arr[3][i],arr[2][i]\n",
        "  for i in range(len(arr)): # Flip Bit Mutation\n",
        "    if(np.random.randint(2)): #checking wheather mutation should happen or not\n",
        "      n=np.random.randint(len(arr[0]))\n",
        "      arr[i][n]=1-arr[i][n]\n",
        "      n=np.random.randint(len(arr[0]))\n",
        "      arr[i][n]=1-arr[i][n]\n",
        "  return(arr)"
      ],
      "execution_count": 39,
      "outputs": []
    },
    {
      "cell_type": "code",
      "metadata": {
        "colab": {
          "base_uri": "https://localhost:8080/"
        },
        "id": "WsBOm7FS7Ohu",
        "outputId": "7120754c-fa23-4563-fb68-217c05f90818"
      },
      "source": [
        "capacity=[0]*20\n",
        "#[a1g1, a1g2, a2g1, a2g2, a3g1, a3g2, b1g1, b1g2, b2g1, b2g2, b3g1, b3g2, dg1, dg2, dg3, dg4, eg1, eg2, eg3, eg4]\n",
        "#2 groups for each elective and 4 groups for each core\n",
        "#a1, a2, a3 are subjects of one elective bucket, and similar for b1,b2,b3\n",
        "#d and e are core sujects, hence 4 groups of each object\n",
        "\n",
        "#formation of groups for each elective\n",
        "a1g=initialization1()\n",
        "for i in range(100): #running the genetic algorithm for 100 iterations\n",
        "  a1g=crossover1(a1g,a1)\n",
        "a1g=a1g[0]  #saving the best solution after running the genetic algorithm\n",
        "print(a1)\n",
        "print(a1g)\n",
        "for i in range(len(a1g)):\n",
        "  if(a1g[i]):\n",
        "    capacity[0]+=a1[i] #saving the size of each group divided among one elective in capacity array\n",
        "  else:\n",
        "    capacity[1]+=a1[i]\n",
        "\n",
        "a2g=initialization1()\n",
        "for i in range(100):\n",
        "  a2g=crossover1(a2g,a2)\n",
        "a2g=a2g[0]\n",
        "for i in range(len(a2g)):\n",
        "  if(a2g[i]):\n",
        "    capacity[2]+=a2[i]\n",
        "  else:\n",
        "    capacity[3]+=a2[i]\n",
        "\n",
        "a3g=initialization1()\n",
        "for i in range(100):\n",
        "  a3g=crossover1(a3g,a3)\n",
        "a3g=a3g[0]\n",
        "for i in range(len(a3g)):\n",
        "  if(a3g[i]):\n",
        "    capacity[4]+=a3[i]\n",
        "  else:\n",
        "    capacity[5]+=a3[i]\n",
        "\n",
        "b1g=initialization1()\n",
        "for i in range(100):\n",
        "  b1g=crossover1(b1g,b1)\n",
        "b1g=b1g[0]\n",
        "for i in range(len(b1g)):\n",
        "  if(b1g[i]):\n",
        "    capacity[6]+=b1[i]\n",
        "  else:\n",
        "    capacity[7]+=b1[i]\n",
        "\n",
        "b2g=initialization1()\n",
        "for i in range(100):\n",
        "  b2g=crossover1(b2g,b2)\n",
        "b2g=b2g[0]\n",
        "for i in range(len(b2g)):\n",
        "  if(b2g[i]):\n",
        "    capacity[8]+=b2[i]\n",
        "  else:\n",
        "    capacity[9]+=b2[i]\n",
        "\n",
        "b3g=initialization1()\n",
        "for i in range(100):\n",
        "  b3g=crossover1(b3g,b3)\n",
        "b3g=b3g[0]\n",
        "for i in range(len(b3g)):\n",
        "  if(b3g[i]):\n",
        "    capacity[10]+=b3[i]\n",
        "  else:\n",
        "    capacity[11]+=b3[i]\n",
        "\n",
        "dg=[0,0,1,1,2,2,3] #grouping the d subject into 4 groups of sizes 60,60,60,30 respectively\n",
        "capacity[12],capacity[13],capacity[14],capacity[15]=60,60,60,30\n",
        "\n",
        "eg=[0,0,1,1,2,2,3] #same as above\n",
        "capacity[16],capacity[17],capacity[18],capacity[19]=60,60,60,30"
      ],
      "execution_count": 41,
      "outputs": [
        {
          "output_type": "stream",
          "text": [
            "[12, 6, 11, 7, 10, 10, 1]\n",
            "[0, 1, 0, 1, 0, 1, 1]\n"
          ],
          "name": "stdout"
        }
      ]
    },
    {
      "cell_type": "code",
      "metadata": {
        "colab": {
          "base_uri": "https://localhost:8080/"
        },
        "id": "-PMGxivZKKcs",
        "outputId": "351f803d-9bd8-49e8-fb26-84e14b0d2ef5"
      },
      "source": [
        "print(capacity)"
      ],
      "execution_count": 42,
      "outputs": [
        {
          "output_type": "stream",
          "text": [
            "[24, 33, 24, 18, 51, 60, 25, 30, 54, 56, 27, 18, 60, 60, 60, 30, 60, 60, 60, 30]\n"
          ],
          "name": "stdout"
        }
      ]
    },
    {
      "cell_type": "code",
      "metadata": {
        "id": "X-AvYY7lhVqO"
      },
      "source": [
        "#function to convert array of binary value to integer\n",
        "def bin_to_int(x):\n",
        "  s=0\n",
        "  for i in range(len(x)):\n",
        "    t=x[len(x)-i-1]\n",
        "    s+=((t)*(2**i))\n",
        "  return(s)"
      ],
      "execution_count": 43,
      "outputs": []
    },
    {
      "cell_type": "code",
      "metadata": {
        "colab": {
          "base_uri": "https://localhost:8080/"
        },
        "id": "gtynEuishuPG",
        "outputId": "00d5873b-1e41-4ed6-a79e-ce7e71e48ad3"
      },
      "source": [
        "print(bin_to_int([1,0,1,0,0]))"
      ],
      "execution_count": 44,
      "outputs": [
        {
          "output_type": "stream",
          "text": [
            "20\n"
          ],
          "name": "stdout"
        }
      ]
    },
    {
      "cell_type": "markdown",
      "metadata": {
        "id": "bSfXblAGs0LI"
      },
      "source": [
        "Second Instance of Genetic Algorithm applied\n",
        "---"
      ]
    },
    {
      "cell_type": "code",
      "metadata": {
        "id": "p0ef-mdrKWX_"
      },
      "source": [
        "def initialization2():\n",
        "  arr=[]\n",
        "  for i in range(4): #Population size = 4\n",
        "    chr=[]\n",
        "    for j in range(750): # 5(Working Day) * 5(Time Slots) * 6(Classrooms) * 5(Bits reqd to represent one Subject SubGroup) = 750\n",
        "      chr.append(np.random.randint(2))\n",
        "    arr=arr+[chr]\n",
        "  return(arr)"
      ],
      "execution_count": 45,
      "outputs": []
    },
    {
      "cell_type": "code",
      "metadata": {
        "id": "Fue9JorMRm9Z"
      },
      "source": [
        "def fitness2(arr):\n",
        "  al=list(itertools.permutations([[0,0,0,0,1],[0,0,0,1,0],[0,0,0,1,1],[0,0,1,0,0],[0,0,1,0,1],[0,0,1,1,0]]))\n",
        "  bl=list(itertools.permutations([[0,0,1,1,1],[0,1,0,0,0],[0,1,0,0,1],[0,1,0,1,0],[0,1,0,1,1],[0,1,1,0,0]]))\n",
        "  dl=list(itertools.permutations([[0,1,1,0,1],[0,1,1,1,0],[0,1,1,1,1],[1,0,0,0,0],[0,0,0,0,0],[0,0,0,0,0]]))\n",
        "  el=list(itertools.permutations([[1,0,0,0,1],[1,0,0,1,0],[1,0,0,1,1],[1,0,1,0,0],[0,0,0,0,0],[0,0,0,0,0]]))\n",
        "  ind=0\n",
        "  fitness=0\n",
        "  count=[0]*21 #constraint 1 (all class should be equal to 5 of each subject)\n",
        "  greaterThan20=0 #constraint 5 (value of c should be less than 21) (c - SubGroup's number)\n",
        "  cap=0 #contraint 2 (Capacity should be less than 70 for Cl 1,2,3 and less than 40 for Cl 4,5,6)\n",
        "  unq=0 #contraint 4 (any SubGroup should only exist once in a particular TimeSlot)\n",
        "  const3=0 #constarint 3 (at a particular time slot, all the buckets of a particular elective should run simultaneously, not any other elective)\n",
        "  a=[] #a is one of the solution set\n",
        "  for i in range(25):\n",
        "    b=[]\n",
        "    for j in range(6):\n",
        "      c=arr[ind:ind+5]\n",
        "      ind+=5 #used for taking relevant values from solution chromosome to form exact solution\n",
        "      if(c in b):\n",
        "        unq+=1\n",
        "      b=b+[c]\n",
        "      t=bin_to_int(c) #converting binary sequence to SubGroup number\n",
        "      if(t>20):\n",
        "        greaterThan20+=1\n",
        "      else:\n",
        "        count[t]+=1\n",
        "        if(t>0 and (j in [0,1,2]) and capacity[t-1]>70):\n",
        "          cap+=1\n",
        "        elif(t>0 and (j in [3,4,5]) and capacity[t-1]>40):\n",
        "          cap+=1\n",
        "      if ((b in al) or (b in bl) or (b in dl) or (b in el)):\n",
        "        fitness-=100\n",
        "      else:\n",
        "        const3+=1\n",
        "    a=a+[b]\n",
        "  for i in range(1,21):\n",
        "    fitness+=abs(5-count[i]) #constraint1 for each classes\n",
        "  fitness+=abs(50-count[0]) #constraint 1 for empty slots (Empty slots = 50 = (25*6 - 20*5))\n",
        "  fitness+=greaterThan20\n",
        "  fitness+=cap\n",
        "  fitness+=unq\n",
        "  fitness+=const3\n",
        "  return(fitness)"
      ],
      "execution_count": 46,
      "outputs": []
    },
    {
      "cell_type": "code",
      "metadata": {
        "id": "GXK_UQ6ELdP9"
      },
      "source": [
        "def crossover2(arr):\n",
        "  fit=[]\n",
        "  for i in range(len(arr)):\n",
        "    fit.append(fitness2(arr[i]))\n",
        "  arr=[x for _,x in sorted(zip(fit,arr))]\n",
        "  arr[-1]=arr[0]\n",
        "  for i in range(len(arr[0])):\n",
        "    t=np.random.randint(2)\n",
        "    if(t==0):\n",
        "      arr[0][i],arr[1][i] = arr[1][i],arr[0][i]\n",
        "    t=np.random.randint(2)\n",
        "    if(t==0):\n",
        "      arr[2][i],arr[3][i] = arr[3][i],arr[2][i]\n",
        "  for i in range(len(arr)):\n",
        "    if(np.random.randint(2)):\n",
        "      n=np.random.randint(len(arr[0]))\n",
        "      arr[i][n]=1-arr[i][n]\n",
        "      n=np.random.randint(len(arr[0]))\n",
        "      arr[i][n]=1-arr[i][n]\n",
        "  return(arr)"
      ],
      "execution_count": 47,
      "outputs": []
    },
    {
      "cell_type": "code",
      "metadata": {
        "colab": {
          "base_uri": "https://localhost:8080/"
        },
        "id": "y4TOcVmmLu3d",
        "outputId": "59a783d6-220f-4c51-ec75-3bcd3aa23c8a"
      },
      "source": [
        "a=initialization2()\n",
        "for i in range(250):\n",
        "  a=crossover2(a)\n",
        "  #print(fitness2(a[0]))\n",
        "#print(a[0])\n",
        "arr=[]\n",
        "ind=0\n",
        "for i in range(25):\n",
        "  b=[]\n",
        "  for j in range(6):\n",
        "    c=a[0][ind:ind+5]\n",
        "    ind+=5\n",
        "    b=b+[bin_to_int(c)]\n",
        "  arr=arr+[b]\n",
        "print(arr)"
      ],
      "execution_count": 48,
      "outputs": [
        {
          "output_type": "stream",
          "text": [
            "[[19, 22, 0, 14, 2, 20], [4, 21, 31, 0, 19, 14], [10, 30, 15, 14, 1, 24], [2, 6, 10, 26, 1, 26], [24, 23, 15, 31, 3, 26], [21, 6, 10, 0, 6, 16], [0, 14, 9, 27, 5, 3], [16, 20, 16, 22, 16, 17], [27, 18, 8, 25, 29, 18], [13, 2, 2, 6, 12, 16], [26, 8, 16, 9, 29, 22], [15, 3, 7, 2, 22, 26], [23, 23, 13, 6, 28, 14], [4, 21, 30, 23, 6, 18], [17, 19, 12, 20, 18, 0], [28, 25, 2, 6, 1, 24], [9, 5, 26, 23, 26, 16], [18, 2, 24, 22, 12, 26], [8, 1, 14, 21, 25, 12], [0, 21, 18, 15, 29, 13], [6, 28, 1, 23, 12, 14], [14, 26, 10, 17, 4, 24], [6, 20, 11, 29, 9, 28], [13, 5, 31, 15, 7, 23], [11, 23, 16, 18, 9, 11]]\n"
          ],
          "name": "stdout"
        }
      ]
    },
    {
      "cell_type": "markdown",
      "metadata": {
        "id": "z3RA7T975W83"
      },
      "source": [
        "Printing the Solution\n",
        "---"
      ]
    },
    {
      "cell_type": "code",
      "metadata": {
        "id": "bVC_bxYWLw6t"
      },
      "source": [
        "dic={1:'a1g1',2:'a1g2',3:'a2g1',4:'a2g2',5:'a3g1',6:'a3g2',7:'b1g1',8:'b1g2',9:'b2g1',10:'b2g2',11:'b3g1',12:'b3g2',13:'dg1 ',14:'dg2 ',15:'dg3 ',16:'dg4 ',17:'eg1 ',18:'eg2 ',19:'eg3 ',20:'eg4 '}"
      ],
      "execution_count": 49,
      "outputs": []
    },
    {
      "cell_type": "code",
      "metadata": {
        "id": "5w4T6LjDP4D3"
      },
      "source": [
        "dic[0]='----'\n",
        "for i in range(21,32):\n",
        "  dic[i]='----'"
      ],
      "execution_count": 50,
      "outputs": []
    },
    {
      "cell_type": "code",
      "metadata": {
        "colab": {
          "base_uri": "https://localhost:8080/"
        },
        "id": "oVw0Hj3wPdZg",
        "outputId": "d0caefc5-e45e-4b37-8ed4-948308a0e1d7"
      },
      "source": [
        "print('      Cl1  Cl2  Cl3  Cl4  Cl5  Cl6')\n",
        "for i in range(25):\n",
        "  print('T',i,' ',end='')\n",
        "  print(' ',end='')\n",
        "  for j in range(6):\n",
        "    print(dic[arr[i][j]],end=' ')\n",
        "  print()"
      ],
      "execution_count": 51,
      "outputs": [
        {
          "output_type": "stream",
          "text": [
            "      Cl1  Cl2  Cl3  Cl4  Cl5  Cl6\n",
            "T 0   eg3  ---- ---- dg2  a1g2 eg4  \n",
            "T 1   a2g2 ---- ---- ---- eg3  dg2  \n",
            "T 2   b2g2 ---- dg3  dg2  a1g1 ---- \n",
            "T 3   a1g2 a3g2 b2g2 ---- a1g1 ---- \n",
            "T 4   ---- ---- dg3  ---- a2g1 ---- \n",
            "T 5   ---- a3g2 b2g2 ---- a3g2 dg4  \n",
            "T 6   ---- dg2  b2g1 ---- a3g1 a2g1 \n",
            "T 7   dg4  eg4  dg4  ---- dg4  eg1  \n",
            "T 8   ---- eg2  b1g2 ---- ---- eg2  \n",
            "T 9   dg1  a1g2 a1g2 a3g2 b3g2 dg4  \n",
            "T 10   ---- b1g2 dg4  b2g1 ---- ---- \n",
            "T 11   dg3  a2g1 b1g1 a1g2 ---- ---- \n",
            "T 12   ---- ---- dg1  a3g2 ---- dg2  \n",
            "T 13   a2g2 ---- ---- ---- a3g2 eg2  \n",
            "T 14   eg1  eg3  b3g2 eg4  eg2  ---- \n",
            "T 15   ---- ---- a1g2 a3g2 a1g1 ---- \n",
            "T 16   b2g1 a3g1 ---- ---- ---- dg4  \n",
            "T 17   eg2  a1g2 ---- ---- b3g2 ---- \n",
            "T 18   b1g2 a1g1 dg2  ---- ---- b3g2 \n",
            "T 19   ---- ---- eg2  dg3  ---- dg1  \n",
            "T 20   a3g2 ---- a1g1 ---- b3g2 dg2  \n",
            "T 21   dg2  ---- b2g2 eg1  a2g2 ---- \n",
            "T 22   a3g2 eg4  b3g1 ---- b2g1 ---- \n",
            "T 23   dg1  a3g1 ---- dg3  b1g1 ---- \n",
            "T 24   b3g1 ---- dg4  eg2  b2g1 b3g1 \n"
          ],
          "name": "stdout"
        }
      ]
    },
    {
      "cell_type": "code",
      "metadata": {
        "colab": {
          "base_uri": "https://localhost:8080/"
        },
        "id": "oURm5GvyP1kE",
        "outputId": "8a93e312-9046-4833-bf33-9a3d0bae33e2"
      },
      "source": [
        "print(a1g)\n",
        "print(a1)"
      ],
      "execution_count": 52,
      "outputs": [
        {
          "output_type": "stream",
          "text": [
            "[0, 1, 0, 1, 0, 1, 1]\n",
            "[12, 6, 11, 7, 10, 10, 1]\n"
          ],
          "name": "stdout"
        }
      ]
    },
    {
      "cell_type": "code",
      "metadata": {
        "colab": {
          "base_uri": "https://localhost:8080/"
        },
        "id": "5ARWtoy8QRCx",
        "outputId": "2d9308ee-2039-4898-c9ce-93bf3a265919"
      },
      "source": [
        "print(capacity)"
      ],
      "execution_count": 53,
      "outputs": [
        {
          "output_type": "stream",
          "text": [
            "[24, 33, 24, 18, 51, 60, 25, 30, 54, 56, 27, 18, 60, 60, 60, 30, 60, 60, 60, 30]\n"
          ],
          "name": "stdout"
        }
      ]
    },
    {
      "cell_type": "code",
      "metadata": {
        "id": "hKAsrqlvQgl3"
      },
      "source": [
        "dicT={1:'a1T ',2:'a1T ',3:'a2T ',4:'a2T ',5:'a3T ',6:'a3T ',7:'b1T ',8:'b1T ',9:'b2T ',10:'b2T ',11:'b3T ',12:'b3T ',13:'dgT1',14:'dgT1',15:'dgT2',16:'dgT2',17:'egT1',18:'egT1',19:'egT2',20:'egT2'}\n"
      ],
      "execution_count": 54,
      "outputs": []
    },
    {
      "cell_type": "code",
      "metadata": {
        "id": "aUO-gbNQ-uu7"
      },
      "source": [
        "dicT[0]='----'\n",
        "for i in range(21,32):\n",
        "  dicT[i]='----'"
      ],
      "execution_count": 55,
      "outputs": []
    },
    {
      "cell_type": "code",
      "metadata": {
        "colab": {
          "base_uri": "https://localhost:8080/"
        },
        "id": "ySAzy1WC-1QS",
        "outputId": "341fe8cd-cf10-4f2f-a4ff-4c5382bbb24e"
      },
      "source": [
        "for i in range(25):\n",
        "  for j in range(6):\n",
        "    print(dicT[arr[i][j]],end=' ')\n",
        "  print()"
      ],
      "execution_count": 56,
      "outputs": [
        {
          "output_type": "stream",
          "text": [
            "egT2 ---- ---- dgT1 a1T  egT2 \n",
            "a2T  ---- ---- ---- egT2 dgT1 \n",
            "b2T  ---- dgT2 dgT1 a1T  ---- \n",
            "a1T  a3T  b2T  ---- a1T  ---- \n",
            "---- ---- dgT2 ---- a2T  ---- \n",
            "---- a3T  b2T  ---- a3T  dgT2 \n",
            "---- dgT1 b2T  ---- a3T  a2T  \n",
            "dgT2 egT2 dgT2 ---- dgT2 egT1 \n",
            "---- egT1 b1T  ---- ---- egT1 \n",
            "dgT1 a1T  a1T  a3T  b3T  dgT2 \n",
            "---- b1T  dgT2 b2T  ---- ---- \n",
            "dgT2 a2T  b1T  a1T  ---- ---- \n",
            "---- ---- dgT1 a3T  ---- dgT1 \n",
            "a2T  ---- ---- ---- a3T  egT1 \n",
            "egT1 egT2 b3T  egT2 egT1 ---- \n",
            "---- ---- a1T  a3T  a1T  ---- \n",
            "b2T  a3T  ---- ---- ---- dgT2 \n",
            "egT1 a1T  ---- ---- b3T  ---- \n",
            "b1T  a1T  dgT1 ---- ---- b3T  \n",
            "---- ---- egT1 dgT2 ---- dgT1 \n",
            "a3T  ---- a1T  ---- b3T  dgT1 \n",
            "dgT1 ---- b2T  egT1 a2T  ---- \n",
            "a3T  egT2 b3T  ---- b2T  ---- \n",
            "dgT1 a3T  ---- dgT2 b1T  ---- \n",
            "b3T  ---- dgT2 egT1 b2T  b3T  \n"
          ],
          "name": "stdout"
        }
      ]
    },
    {
      "cell_type": "code",
      "metadata": {
        "colab": {
          "base_uri": "https://localhost:8080/"
        },
        "id": "JW4bi-wh_N8H",
        "outputId": "a3e88d2a-d1a2-4dae-eace-9056c8a305cc"
      },
      "source": [
        "for i in range(25):\n",
        "  for j in range(6):\n",
        "    print('T',\"{:02d}\".format(i+1),dic[arr[i][j]],dicT[arr[i][j]],'CL',\"{:02d}\".format(j+1),end=' ')\n",
        "    print('  ',end=' ')\n",
        "  print('\\n')"
      ],
      "execution_count": 57,
      "outputs": [
        {
          "output_type": "stream",
          "text": [
            "T 01 eg3  egT2 CL 01    T 01 ---- ---- CL 02    T 01 ---- ---- CL 03    T 01 dg2  dgT1 CL 04    T 01 a1g2 a1T  CL 05    T 01 eg4  egT2 CL 06    \n",
            "\n",
            "T 02 a2g2 a2T  CL 01    T 02 ---- ---- CL 02    T 02 ---- ---- CL 03    T 02 ---- ---- CL 04    T 02 eg3  egT2 CL 05    T 02 dg2  dgT1 CL 06    \n",
            "\n",
            "T 03 b2g2 b2T  CL 01    T 03 ---- ---- CL 02    T 03 dg3  dgT2 CL 03    T 03 dg2  dgT1 CL 04    T 03 a1g1 a1T  CL 05    T 03 ---- ---- CL 06    \n",
            "\n",
            "T 04 a1g2 a1T  CL 01    T 04 a3g2 a3T  CL 02    T 04 b2g2 b2T  CL 03    T 04 ---- ---- CL 04    T 04 a1g1 a1T  CL 05    T 04 ---- ---- CL 06    \n",
            "\n",
            "T 05 ---- ---- CL 01    T 05 ---- ---- CL 02    T 05 dg3  dgT2 CL 03    T 05 ---- ---- CL 04    T 05 a2g1 a2T  CL 05    T 05 ---- ---- CL 06    \n",
            "\n",
            "T 06 ---- ---- CL 01    T 06 a3g2 a3T  CL 02    T 06 b2g2 b2T  CL 03    T 06 ---- ---- CL 04    T 06 a3g2 a3T  CL 05    T 06 dg4  dgT2 CL 06    \n",
            "\n",
            "T 07 ---- ---- CL 01    T 07 dg2  dgT1 CL 02    T 07 b2g1 b2T  CL 03    T 07 ---- ---- CL 04    T 07 a3g1 a3T  CL 05    T 07 a2g1 a2T  CL 06    \n",
            "\n",
            "T 08 dg4  dgT2 CL 01    T 08 eg4  egT2 CL 02    T 08 dg4  dgT2 CL 03    T 08 ---- ---- CL 04    T 08 dg4  dgT2 CL 05    T 08 eg1  egT1 CL 06    \n",
            "\n",
            "T 09 ---- ---- CL 01    T 09 eg2  egT1 CL 02    T 09 b1g2 b1T  CL 03    T 09 ---- ---- CL 04    T 09 ---- ---- CL 05    T 09 eg2  egT1 CL 06    \n",
            "\n",
            "T 10 dg1  dgT1 CL 01    T 10 a1g2 a1T  CL 02    T 10 a1g2 a1T  CL 03    T 10 a3g2 a3T  CL 04    T 10 b3g2 b3T  CL 05    T 10 dg4  dgT2 CL 06    \n",
            "\n",
            "T 11 ---- ---- CL 01    T 11 b1g2 b1T  CL 02    T 11 dg4  dgT2 CL 03    T 11 b2g1 b2T  CL 04    T 11 ---- ---- CL 05    T 11 ---- ---- CL 06    \n",
            "\n",
            "T 12 dg3  dgT2 CL 01    T 12 a2g1 a2T  CL 02    T 12 b1g1 b1T  CL 03    T 12 a1g2 a1T  CL 04    T 12 ---- ---- CL 05    T 12 ---- ---- CL 06    \n",
            "\n",
            "T 13 ---- ---- CL 01    T 13 ---- ---- CL 02    T 13 dg1  dgT1 CL 03    T 13 a3g2 a3T  CL 04    T 13 ---- ---- CL 05    T 13 dg2  dgT1 CL 06    \n",
            "\n",
            "T 14 a2g2 a2T  CL 01    T 14 ---- ---- CL 02    T 14 ---- ---- CL 03    T 14 ---- ---- CL 04    T 14 a3g2 a3T  CL 05    T 14 eg2  egT1 CL 06    \n",
            "\n",
            "T 15 eg1  egT1 CL 01    T 15 eg3  egT2 CL 02    T 15 b3g2 b3T  CL 03    T 15 eg4  egT2 CL 04    T 15 eg2  egT1 CL 05    T 15 ---- ---- CL 06    \n",
            "\n",
            "T 16 ---- ---- CL 01    T 16 ---- ---- CL 02    T 16 a1g2 a1T  CL 03    T 16 a3g2 a3T  CL 04    T 16 a1g1 a1T  CL 05    T 16 ---- ---- CL 06    \n",
            "\n",
            "T 17 b2g1 b2T  CL 01    T 17 a3g1 a3T  CL 02    T 17 ---- ---- CL 03    T 17 ---- ---- CL 04    T 17 ---- ---- CL 05    T 17 dg4  dgT2 CL 06    \n",
            "\n",
            "T 18 eg2  egT1 CL 01    T 18 a1g2 a1T  CL 02    T 18 ---- ---- CL 03    T 18 ---- ---- CL 04    T 18 b3g2 b3T  CL 05    T 18 ---- ---- CL 06    \n",
            "\n",
            "T 19 b1g2 b1T  CL 01    T 19 a1g1 a1T  CL 02    T 19 dg2  dgT1 CL 03    T 19 ---- ---- CL 04    T 19 ---- ---- CL 05    T 19 b3g2 b3T  CL 06    \n",
            "\n",
            "T 20 ---- ---- CL 01    T 20 ---- ---- CL 02    T 20 eg2  egT1 CL 03    T 20 dg3  dgT2 CL 04    T 20 ---- ---- CL 05    T 20 dg1  dgT1 CL 06    \n",
            "\n",
            "T 21 a3g2 a3T  CL 01    T 21 ---- ---- CL 02    T 21 a1g1 a1T  CL 03    T 21 ---- ---- CL 04    T 21 b3g2 b3T  CL 05    T 21 dg2  dgT1 CL 06    \n",
            "\n",
            "T 22 dg2  dgT1 CL 01    T 22 ---- ---- CL 02    T 22 b2g2 b2T  CL 03    T 22 eg1  egT1 CL 04    T 22 a2g2 a2T  CL 05    T 22 ---- ---- CL 06    \n",
            "\n",
            "T 23 a3g2 a3T  CL 01    T 23 eg4  egT2 CL 02    T 23 b3g1 b3T  CL 03    T 23 ---- ---- CL 04    T 23 b2g1 b2T  CL 05    T 23 ---- ---- CL 06    \n",
            "\n",
            "T 24 dg1  dgT1 CL 01    T 24 a3g1 a3T  CL 02    T 24 ---- ---- CL 03    T 24 dg3  dgT2 CL 04    T 24 b1g1 b1T  CL 05    T 24 ---- ---- CL 06    \n",
            "\n",
            "T 25 b3g1 b3T  CL 01    T 25 ---- ---- CL 02    T 25 dg4  dgT2 CL 03    T 25 eg2  egT1 CL 04    T 25 b2g1 b2T  CL 05    T 25 b3g1 b3T  CL 06    \n",
            "\n"
          ],
          "name": "stdout"
        }
      ]
    }
  ]
}